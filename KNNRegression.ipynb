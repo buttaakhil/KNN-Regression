{
  "nbformat": 4,
  "nbformat_minor": 0,
  "metadata": {
    "colab": {
      "provenance": [],
      "authorship_tag": "ABX9TyPfb5OGAMsogytlX+MhylXf",
      "include_colab_link": true
    },
    "kernelspec": {
      "name": "python3",
      "display_name": "Python 3"
    },
    "language_info": {
      "name": "python"
    }
  },
  "cells": [
    {
      "cell_type": "markdown",
      "metadata": {
        "id": "view-in-github",
        "colab_type": "text"
      },
      "source": [
        "<a href=\"https://colab.research.google.com/github/buttaakhil/KNN-Regression/blob/main/KNNRegression.ipynb\" target=\"_parent\"><img src=\"https://colab.research.google.com/assets/colab-badge.svg\" alt=\"Open In Colab\"/></a>"
      ]
    },
    {
      "cell_type": "code",
      "source": [
        "import pandas as pd\n",
        "import matplotlib.pyplot as plt\n",
        "import seaborn as sns"
      ],
      "metadata": {
        "id": "ICt1g-V2wbcQ"
      },
      "execution_count": 25,
      "outputs": []
    },
    {
      "cell_type": "code",
      "source": [
        "dataset=pd.read_csv(\"Salary_Data.csv\")\n",
        "print(dataset.head(3))"
      ],
      "metadata": {
        "colab": {
          "base_uri": "https://localhost:8080/"
        },
        "id": "nlDCHbkEwiye",
        "outputId": "e43dde6f-2c08-4987-8d3b-c8eb60f82252"
      },
      "execution_count": 26,
      "outputs": [
        {
          "output_type": "stream",
          "name": "stdout",
          "text": [
            "   YearsExperience   Age  Salary\n",
            "0              1.1  21.0   39343\n",
            "1              1.3  21.5   46205\n",
            "2              1.5  21.7   37731\n"
          ]
        }
      ]
    },
    {
      "cell_type": "code",
      "source": [
        "x=dataset.iloc[:,:-1].values\n",
        "y=dataset[\"Salary\"]"
      ],
      "metadata": {
        "id": "RVN36PaSwrW1"
      },
      "execution_count": 27,
      "outputs": []
    },
    {
      "cell_type": "code",
      "source": [
        "from sklearn.model_selection import train_test_split"
      ],
      "metadata": {
        "id": "RTbrnsT-wzAA"
      },
      "execution_count": 28,
      "outputs": []
    },
    {
      "cell_type": "code",
      "source": [
        "x_train,x_test,y_train,y_test=train_test_split(x,y,test_size=0.2,random_state=42)"
      ],
      "metadata": {
        "id": "jTRGughKw4b5"
      },
      "execution_count": 29,
      "outputs": []
    },
    {
      "cell_type": "code",
      "source": [
        "from sklearn.neighbors import KNeighborsRegressor"
      ],
      "metadata": {
        "id": "nzyrQHJgxBUd"
      },
      "execution_count": 30,
      "outputs": []
    },
    {
      "cell_type": "code",
      "source": [
        "for i in range(1,10):\n",
        "    knn=KNeighborsRegressor(n_neighbors=i)\n",
        "    knn.fit(x_train,y_train)\n",
        "    print(knn.score(x_train,y_train)*100,knn.score(x_test,y_test)*100,i)"
      ],
      "metadata": {
        "colab": {
          "base_uri": "https://localhost:8080/"
        },
        "id": "lvUrmkWexbof",
        "outputId": "4ee6de46-1cd8-48be-8ac2-fd73b9da10f6"
      },
      "execution_count": 31,
      "outputs": [
        {
          "output_type": "stream",
          "name": "stdout",
          "text": [
            "99.99262639873075 78.81574448805704 1\n",
            "98.73605072922047 90.61152679575989 2\n",
            "98.58273963380422 94.07212188647607 3\n",
            "98.29523016787115 91.21083610592358 4\n",
            "97.86898171243615 86.93587941102227 5\n",
            "97.06715679586956 87.03506658406974 6\n",
            "95.8993270946898 83.78670812122763 7\n",
            "95.37138621592388 82.83752631509698 8\n",
            "93.62173013953816 82.6998673097246 9\n"
          ]
        }
      ]
    }
  ]
}